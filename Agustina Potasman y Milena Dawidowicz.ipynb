{
  "cells": [
    {
      "cell_type": "markdown",
      "metadata": {
        "id": "IFkQ0PRp83rL"
      },
      "source": [
        "# Trabajo Práctico - Titanic\n",
        "<div style=\"width:900px\"><div style=\"float:left;display:inline-block;width:400px\">Este primer trabajo práctico de la materia estará basado en los datos de registro de pasajeros del RMS Titanic. <br><br>\n",
        "   <div style=\"float:right;width:400px\"><img src=\"https://upload.wikimedia.org/wikipedia/commons/thumb/f/fd/RMS_Titanic_3.jpg/300px-RMS_Titanic_3.jpg\" alt=\"Imagen Titanic\" title=\"Titanic\" /></div> <br>\n",
        "   Completar el código necesario en los espacios grises, para realizar todas las consignas del trabajo. \n",
        "    <br>Además, luego de cada porción de código redactar un pequeño texto describiendo los resultados obtenidos.\n",
        "\n",
        "Subir al servicio del Campus Virtual este ejercicio en formato .ipynb con los resultados plasmados (ejecutados) </div></div>"
      ]
    },
    {
      "cell_type": "markdown",
      "metadata": {
        "id": "JulPTsso83rO"
      },
      "source": [
        "### Importación de Librerías"
      ]
    },
    {
      "cell_type": "markdown",
      "metadata": {
        "id": "zl9ZDfHc83rP"
      },
      "source": [
        "En este espacio debés realizar las importaciones a las librerías que te van a permitir obtener y explorar los datos del dataset."
      ]
    },
    {
      "cell_type": "code",
      "execution_count": null,
      "metadata": {
        "id": "O9iOGY1y83rP"
      },
      "outputs": [],
      "source": []
    },
    {
      "cell_type": "markdown",
      "metadata": {
        "id": "TaX2jcFg83rQ"
      },
      "source": [
        "### Importación del dataset"
      ]
    },
    {
      "cell_type": "markdown",
      "metadata": {
        "id": "qKnKBsg383rQ"
      },
      "source": [
        "Cargar el archivo _titanic.csv_, que se encuentra en el siguiente [enlace de Github](https://raw.githubusercontent.com/informaticaort/intro-datascience/main/datasets/titanic.csv). Corroborar que el dataset fue cargado correctamente mostrando los primeros 5 registros"
      ]
    },
    {
      "cell_type": "code",
      "execution_count": 22,
      "metadata": {
        "id": "ul83As6C83rR"
      },
      "outputs": [],
      "source": [
        "import pandas as pd\n",
        "titanic = pd.read_csv(\"https://raw.githubusercontent.com/informaticaort/intro-datascience/main/datasets/titanic.csv\")\n",
        "import matplotlib.pyplot as plt"
      ]
    },
    {
      "cell_type": "markdown",
      "source": [
        "Descripción de datos del Dataset: \n",
        "\n",
        "<style type=\"text/css\">\n",
        ".tg  {border-collapse:collapse;border-spacing:0;}\n",
        ".tg td{border-color:black;border-style:solid;border-width:1px;font-family:Arial, sans-serif;font-size:14px;\n",
        "  overflow:hidden;padding:10px 5px;word-break:normal;}\n",
        ".tg th{border-color:black;border-style:solid;border-width:1px;font-family:Arial, sans-serif;font-size:14px;\n",
        "  font-weight:normal;overflow:hidden;padding:10px 5px;word-break:normal;}\n",
        ".tg .tg-yj5y{background-color:#efefef;border-color:inherit;text-align:center;vertical-align:top}\n",
        ".tg .tg-0pky{border-color:inherit;text-align:left;vertical-align:top}\n",
        "</style>\n",
        "<table class=\"tg\">\n",
        "<thead>\n",
        "  <tr>\n",
        "    <th class=\"tg-yj5y\">Nombre de Campo</th>\n",
        "    <th class=\"tg-yj5y\">Descripción</th>\n",
        "    <th class=\"tg-yj5y\">Detalle</th>\n",
        "  </tr>\n",
        "</thead>\n",
        "<tbody>\n",
        "  <tr>\n",
        "    <td class=\"tg-0pky\"><span style=\"font-weight:400;font-style:normal\">PassengerId</span></td>\n",
        "    <td class=\"tg-0pky\">Número de pasajero</td>\n",
        "    <td class=\"tg-0pky\"></td>\n",
        "  </tr>\n",
        "  <tr>\n",
        "    <td class=\"tg-0pky\">Survived </td>\n",
        "    <td class=\"tg-0pky\">Sobrevivió?</td>\n",
        "    <td class=\"tg-0pky\">1= Sí, 0= No</td>\n",
        "  </tr>\n",
        "  <tr>\n",
        "    <td class=\"tg-0pky\">PClass</td>\n",
        "    <td class=\"tg-0pky\">Clase del pasaje</td>\n",
        "    <td class=\"tg-0pky\">1=Primera clase, 2= Segunda clase, 3= Tercera clase</td>\n",
        "  </tr>\n",
        "  <tr>\n",
        "    <td class=\"tg-0pky\">Name</td>\n",
        "    <td class=\"tg-0pky\">Nombre</td>\n",
        "    <td class=\"tg-0pky\"></td>\n",
        "  </tr>\n",
        "  <tr>\n",
        "    <td class=\"tg-0pky\">Sex</td>\n",
        "    <td class=\"tg-0pky\">Género</td>\n",
        "    <td class=\"tg-0pky\"></td>\n",
        "  </tr>\n",
        "  <tr>\n",
        "    <td class=\"tg-0pky\">Age</td>\n",
        "    <td class=\"tg-0pky\">Edad</td>\n",
        "    <td class=\"tg-0pky\"></td>\n",
        "  </tr>\n",
        "  <tr>\n",
        "    <td class=\"tg-0pky\">Sibsp</td>\n",
        "    <td class=\"tg-0pky\">Cantidad de parejas o hermanos a bordo</td>\n",
        "    <td class=\"tg-0pky\"></td>\n",
        "  </tr>\n",
        "  <tr>\n",
        "    <td class=\"tg-0pky\">Parch</td>\n",
        "    <td class=\"tg-0pky\">Cantidad de padres o hijos a bordo</td>\n",
        "    <td class=\"tg-0pky\"></td>\n",
        "  </tr>\n",
        "  <tr>\n",
        "    <td class=\"tg-0pky\">Ticket</td>\n",
        "    <td class=\"tg-0pky\">Número de ticket</td>\n",
        "    <td class=\"tg-0pky\"></td>\n",
        "  </tr>\n",
        "  <tr>\n",
        "    <td class=\"tg-0pky\">Fare</td>\n",
        "    <td class=\"tg-0pky\">Tarifa del viaje </td>\n",
        "    <td class=\"tg-0pky\"><span style=\"font-weight:400;font-style:normal\">Expresada en libras (1912)</span></td>\n",
        "  </tr>\n",
        "  <tr>\n",
        "    <td class=\"tg-0pky\">Cabin</td>\n",
        "    <td class=\"tg-0pky\">Cabina</td>\n",
        "    <td class=\"tg-0pky\"></td>\n",
        "  </tr>\n",
        "  <tr>\n",
        "    <td class=\"tg-0pky\">Embarked</td>\n",
        "    <td class=\"tg-0pky\">Puerto donde embarcó</td>\n",
        "    <td class=\"tg-0pky\">C = Cherbourg; Q = Queenstown; S = Southampton</td>\n",
        "  </tr>\n",
        "</tbody>\n",
        "</table>"
      ],
      "metadata": {
        "id": "2MjwrH3Ctzoa"
      }
    },
    {
      "cell_type": "markdown",
      "metadata": {
        "id": "tSDHDnPD83rR"
      },
      "source": [
        "### Consigna 1"
      ]
    },
    {
      "cell_type": "markdown",
      "metadata": {
        "id": "hWoaQngp83rS"
      },
      "source": [
        "Mostrar por pantalla, la __cantidad de registros y campos__ que contiene el dataset cargado"
      ]
    },
    {
      "cell_type": "code",
      "execution_count": null,
      "metadata": {
        "id": "yQavRNGf83rS",
        "colab": {
          "base_uri": "https://localhost:8080/",
          "height": 36
        },
        "outputId": "c30f1230-7017-46b8-ccc6-939b82584916"
      },
      "outputs": [
        {
          "output_type": "execute_result",
          "data": {
            "text/plain": [
              "'La cantidad de registros son 891 y la cantidad de campos son 12'"
            ],
            "application/vnd.google.colaboratory.intrinsic+json": {
              "type": "string"
            }
          },
          "metadata": {},
          "execution_count": 26
        }
      ],
      "source": [
        "\"La cantidad de registros son \" + str(titanic.shape[0]) + \" y la cantidad de campos son \" + str(titanic.shape[1]) "
      ]
    },
    {
      "cell_type": "markdown",
      "metadata": {
        "id": "X84LW2TO83rT"
      },
      "source": [
        "### Consigna 2"
      ]
    },
    {
      "cell_type": "markdown",
      "metadata": {
        "id": "v4lpLwwm83rT"
      },
      "source": [
        "Respecto al total del dataset, mostrar la __cantidad__ de personas que sobrevivieron al accidente y las que no lo hicieron"
      ]
    },
    {
      "cell_type": "code",
      "execution_count": null,
      "metadata": {
        "id": "fOt5YkJc83rU",
        "colab": {
          "base_uri": "https://localhost:8080/"
        },
        "outputId": "63a2c956-3484-4367-d9bd-d5301bb28b32"
      },
      "outputs": [
        {
          "output_type": "execute_result",
          "data": {
            "text/plain": [
              "0    549\n",
              "1    342\n",
              "Name: Survived, dtype: int64"
            ]
          },
          "metadata": {},
          "execution_count": 29
        }
      ],
      "source": [
        "\n",
        "titanic[\"Survived\"].value_counts()"
      ]
    },
    {
      "cell_type": "code",
      "source": [],
      "metadata": {
        "id": "gRwLeJChqzjm"
      },
      "execution_count": null,
      "outputs": []
    },
    {
      "cell_type": "code",
      "source": [
        "titanic.info()"
      ],
      "metadata": {
        "colab": {
          "base_uri": "https://localhost:8080/"
        },
        "id": "EA1ygcuZqzot",
        "outputId": "cbcf0e12-a127-478e-c8c7-343392449c24"
      },
      "execution_count": null,
      "outputs": [
        {
          "output_type": "stream",
          "name": "stdout",
          "text": [
            "<class 'pandas.core.frame.DataFrame'>\n",
            "RangeIndex: 891 entries, 0 to 890\n",
            "Data columns (total 12 columns):\n",
            " #   Column       Non-Null Count  Dtype  \n",
            "---  ------       --------------  -----  \n",
            " 0   PassengerId  891 non-null    int64  \n",
            " 1   Survived     891 non-null    int64  \n",
            " 2   Pclass       891 non-null    int64  \n",
            " 3   Name         891 non-null    object \n",
            " 4   Sex          891 non-null    object \n",
            " 5   Age          714 non-null    float64\n",
            " 6   SibSp        891 non-null    int64  \n",
            " 7   Parch        891 non-null    int64  \n",
            " 8   Ticket       891 non-null    object \n",
            " 9   Fare         891 non-null    float64\n",
            " 10  Cabin        204 non-null    object \n",
            " 11  Embarked     889 non-null    object \n",
            "dtypes: float64(2), int64(5), object(5)\n",
            "memory usage: 83.7+ KB\n"
          ]
        }
      ]
    },
    {
      "cell_type": "markdown",
      "metadata": {
        "id": "EhmtTIsm83rU"
      },
      "source": [
        "### Consigna 3"
      ]
    },
    {
      "cell_type": "markdown",
      "source": [
        "Mostrar la cantidad de registros que **no contienen información** para cada dato. Por ejemplo: hay 50 pasajeros que no tienen información sobre el campo \"Embarked\", 0 pasajeros que no tienen información sobre número de ticket, etc."
      ],
      "metadata": {
        "id": "260hwSUrDmlA"
      }
    },
    {
      "cell_type": "code",
      "source": [
        "titanic.isnull().sum()"
      ],
      "metadata": {
        "id": "KZIz2AirD87o",
        "colab": {
          "base_uri": "https://localhost:8080/"
        },
        "outputId": "8aebd3e9-4190-4c07-acf7-d57730211375"
      },
      "execution_count": null,
      "outputs": [
        {
          "output_type": "execute_result",
          "data": {
            "text/plain": [
              "PassengerId      0\n",
              "Survived         0\n",
              "Pclass           0\n",
              "Name             0\n",
              "Sex              0\n",
              "Age            177\n",
              "SibSp            0\n",
              "Parch            0\n",
              "Ticket           0\n",
              "Fare             0\n",
              "Cabin          687\n",
              "Embarked         2\n",
              "dtype: int64"
            ]
          },
          "metadata": {},
          "execution_count": 30
        }
      ]
    },
    {
      "cell_type": "markdown",
      "metadata": {
        "id": "nu66UKJDDkYz"
      },
      "source": [
        "### Consigna 4"
      ]
    },
    {
      "cell_type": "markdown",
      "metadata": {
        "id": "tKvaiLWr83rU"
      },
      "source": [
        "Crear un gráfico de barras vertical, donde se muestre la **cantidad de personas** de género masculino y femenino registradas en el dataset. <br>Pista: utilizar el método plot de Dataframe con la propiedad kind=bar"
      ]
    },
    {
      "cell_type": "code",
      "execution_count": null,
      "metadata": {
        "id": "sRlA8LPd83rV",
        "colab": {
          "base_uri": "https://localhost:8080/",
          "height": 309
        },
        "outputId": "a91528c9-6825-4387-b546-5ad9f440871c"
      },
      "outputs": [
        {
          "output_type": "execute_result",
          "data": {
            "text/plain": [
              "<matplotlib.axes._subplots.AxesSubplot at 0x7f00dc7b5050>"
            ]
          },
          "metadata": {},
          "execution_count": 10
        },
        {
          "output_type": "display_data",
          "data": {
            "text/plain": [
              "<Figure size 432x288 with 1 Axes>"
            ],
            "image/png": "[encoded data removed]"
          },
          "metadata": {
            "needs_background": "light"
          }
        }
      ],
      "source": [
        "\n",
        "titanic[\"Sex\"].value_counts().plot(kind=\"bar\")"
      ]
    },
    {
      "cell_type": "markdown",
      "metadata": {
        "id": "_DzNJoPp83rV"
      },
      "source": [
        "### Consigna 5"
      ]
    },
    {
      "cell_type": "markdown",
      "metadata": {
        "id": "Llbmr2Wa83rV"
      },
      "source": [
        "Obtener un listado ejemplo (al azar) de 10 personas de género femenino del dataset de pasajeros a bordo del Titanic"
      ]
    },
    {
      "cell_type": "code",
      "execution_count": null,
      "metadata": {
        "id": "XY-Vuoav83rW",
        "colab": {
          "base_uri": "https://localhost:8080/",
          "height": 363
        },
        "outputId": "2bcc9cca-e540-4f29-983e-c680ed17f06a"
      },
      "outputs": [
        {
          "output_type": "execute_result",
          "data": {
            "text/plain": [
              "     PassengerId  Survived  Pclass  \\\n",
              "863          864         0       3   \n",
              "368          369         1       3   \n",
              "431          432         1       3   \n",
              "18            19         0       3   \n",
              "289          290         1       3   \n",
              "184          185         1       3   \n",
              "865          866         1       2   \n",
              "440          441         1       2   \n",
              "472          473         1       2   \n",
              "777          778         1       3   \n",
              "\n",
              "                                                  Name     Sex   Age  SibSp  \\\n",
              "863                  Sage, Miss. Dorothy Edith \"Dolly\"  female   NaN      8   \n",
              "368                                Jermyn, Miss. Annie  female   NaN      0   \n",
              "431  Thorneycroft, Mrs. Percival (Florence Kate White)  female   NaN      1   \n",
              "18   Vander Planke, Mrs. Julius (Emelia Maria Vande...  female  31.0      1   \n",
              "289                               Connolly, Miss. Kate  female  22.0      0   \n",
              "184                Kink-Heilmann, Miss. Luise Gretchen  female   4.0      0   \n",
              "865                           Bystrom, Mrs. (Karolina)  female  42.0      0   \n",
              "440        Hart, Mrs. Benjamin (Esther Ada Bloomfield)  female  45.0      1   \n",
              "472            West, Mrs. Edwy Arthur (Ada Mary Worth)  female  33.0      1   \n",
              "777                      Emanuel, Miss. Virginia Ethel  female   5.0      0   \n",
              "\n",
              "     Parch        Ticket    Fare Cabin Embarked  \n",
              "863      2      CA. 2343  69.550   NaN        S  \n",
              "368      0         14313   7.750   NaN        Q  \n",
              "431      0        376564  16.100   NaN        S  \n",
              "18       0        345763  18.000   NaN        S  \n",
              "289      0        370373   7.750   NaN        Q  \n",
              "184      2        315153  22.025   NaN        S  \n",
              "865      0        236852  13.000   NaN        S  \n",
              "440      1  F.C.C. 13529  26.250   NaN        S  \n",
              "472      2    C.A. 34651  27.750   NaN        S  \n",
              "777      0        364516  12.475   NaN        S  "
            ],
            "text/html": [
              "\n",
              "  <div id=\"df-4a0a42fd-7438-4126-8d33-4f14fa84bbd6\">\n",
              "    <div class=\"colab-df-container\">\n",
              "      <div>\n",
              "<style scoped>\n",
              "    .dataframe tbody tr th:only-of-type {\n",
              "        vertical-align: middle;\n",
              "    }\n",
              "\n",
              "    .dataframe tbody tr th {\n",
              "        vertical-align: top;\n",
              "    }\n",
              "\n",
              "    .dataframe thead th {\n",
              "        text-align: right;\n",
              "    }\n",
              "</style>\n",
              "<table border=\"1\" class=\"dataframe\">\n",
              "  <thead>\n",
              "    <tr style=\"text-align: right;\">\n",
              "      <th></th>\n",
              "      <th>PassengerId</th>\n",
              "      <th>Survived</th>\n",
              "      <th>Pclass</th>\n",
              "      <th>Name</th>\n",
              "      <th>Sex</th>\n",
              "      <th>Age</th>\n",
              "      <th>SibSp</th>\n",
              "      <th>Parch</th>\n",
              "      <th>Ticket</th>\n",
              "      <th>Fare</th>\n",
              "      <th>Cabin</th>\n",
              "      <th>Embarked</th>\n",
              "    </tr>\n",
              "  </thead>\n",
              "  <tbody>\n",
              "    <tr>\n",
              "      <th>863</th>\n",
              "      <td>864</td>\n",
              "      <td>0</td>\n",
              "      <td>3</td>\n",
              "      <td>Sage, Miss. Dorothy Edith \"Dolly\"</td>\n",
              "      <td>female</td>\n",
              "      <td>NaN</td>\n",
              "      <td>8</td>\n",
              "      <td>2</td>\n",
              "      <td>CA. 2343</td>\n",
              "      <td>69.550</td>\n",
              "      <td>NaN</td>\n",
              "      <td>S</td>\n",
              "    </tr>\n",
              "    <tr>\n",
              "      <th>368</th>\n",
              "      <td>369</td>\n",
              "      <td>1</td>\n",
              "      <td>3</td>\n",
              "      <td>Jermyn, Miss. Annie</td>\n",
              "      <td>female</td>\n",
              "      <td>NaN</td>\n",
              "      <td>0</td>\n",
              "      <td>0</td>\n",
              "      <td>14313</td>\n",
              "      <td>7.750</td>\n",
              "      <td>NaN</td>\n",
              "      <td>Q</td>\n",
              "    </tr>\n",
              "    <tr>\n",
              "      <th>431</th>\n",
              "      <td>432</td>\n",
              "      <td>1</td>\n",
              "      <td>3</td>\n",
              "      <td>Thorneycroft, Mrs. Percival (Florence Kate White)</td>\n",
              "      <td>female</td>\n",
              "      <td>NaN</td>\n",
              "      <td>1</td>\n",
              "      <td>0</td>\n",
              "      <td>376564</td>\n",
              "      <td>16.100</td>\n",
              "      <td>NaN</td>\n",
              "      <td>S</td>\n",
              "    </tr>\n",
              "    <tr>\n",
              "      <th>18</th>\n",
              "      <td>19</td>\n",
              "      <td>0</td>\n",
              "      <td>3</td>\n",
              "      <td>Vander Planke, Mrs. Julius (Emelia Maria Vande...</td>\n",
              "      <td>female</td>\n",
              "      <td>31.0</td>\n",
              "      <td>1</td>\n",
              "      <td>0</td>\n",
              "      <td>345763</td>\n",
              "      <td>18.000</td>\n",
              "      <td>NaN</td>\n",
              "      <td>S</td>\n",
              "    </tr>\n",
              "    <tr>\n",
              "      <th>289</th>\n",
              "      <td>290</td>\n",
              "      <td>1</td>\n",
              "      <td>3</td>\n",
              "      <td>Connolly, Miss. Kate</td>\n",
              "      <td>female</td>\n",
              "      <td>22.0</td>\n",
              "      <td>0</td>\n",
              "      <td>0</td>\n",
              "      <td>370373</td>\n",
              "      <td>7.750</td>\n",
              "      <td>NaN</td>\n",
              "      <td>Q</td>\n",
              "    </tr>\n",
              "    <tr>\n",
              "      <th>184</th>\n",
              "      <td>185</td>\n",
              "      <td>1</td>\n",
              "      <td>3</td>\n",
              "      <td>Kink-Heilmann, Miss. Luise Gretchen</td>\n",
              "      <td>female</td>\n",
              "      <td>4.0</td>\n",
              "      <td>0</td>\n",
              "      <td>2</td>\n",
              "      <td>315153</td>\n",
              "      <td>22.025</td>\n",
              "      <td>NaN</td>\n",
              "      <td>S</td>\n",
              "    </tr>\n",
              "    <tr>\n",
              "      <th>865</th>\n",
              "      <td>866</td>\n",
              "      <td>1</td>\n",
              "      <td>2</td>\n",
              "      <td>Bystrom, Mrs. (Karolina)</td>\n",
              "      <td>female</td>\n",
              "      <td>42.0</td>\n",
              "      <td>0</td>\n",
              "      <td>0</td>\n",
              "      <td>236852</td>\n",
              "      <td>13.000</td>\n",
              "      <td>NaN</td>\n",
              "      <td>S</td>\n",
              "    </tr>\n",
              "    <tr>\n",
              "      <th>440</th>\n",
              "      <td>441</td>\n",
              "      <td>1</td>\n",
              "      <td>2</td>\n",
              "      <td>Hart, Mrs. Benjamin (Esther Ada Bloomfield)</td>\n",
              "      <td>female</td>\n",
              "      <td>45.0</td>\n",
              "      <td>1</td>\n",
              "      <td>1</td>\n",
              "      <td>F.C.C. 13529</td>\n",
              "      <td>26.250</td>\n",
              "      <td>NaN</td>\n",
              "      <td>S</td>\n",
              "    </tr>\n",
              "    <tr>\n",
              "      <th>472</th>\n",
              "      <td>473</td>\n",
              "      <td>1</td>\n",
              "      <td>2</td>\n",
              "      <td>West, Mrs. Edwy Arthur (Ada Mary Worth)</td>\n",
              "      <td>female</td>\n",
              "      <td>33.0</td>\n",
              "      <td>1</td>\n",
              "      <td>2</td>\n",
              "      <td>C.A. 34651</td>\n",
              "      <td>27.750</td>\n",
              "      <td>NaN</td>\n",
              "      <td>S</td>\n",
              "    </tr>\n",
              "    <tr>\n",
              "      <th>777</th>\n",
              "      <td>778</td>\n",
              "      <td>1</td>\n",
              "      <td>3</td>\n",
              "      <td>Emanuel, Miss. Virginia Ethel</td>\n",
              "      <td>female</td>\n",
              "      <td>5.0</td>\n",
              "      <td>0</td>\n",
              "      <td>0</td>\n",
              "      <td>364516</td>\n",
              "      <td>12.475</td>\n",
              "      <td>NaN</td>\n",
              "      <td>S</td>\n",
              "    </tr>\n",
              "  </tbody>\n",
              "</table>\n",
              "</div>\n",
              "      <button class=\"colab-df-convert\" onclick=\"convertToInteractive('df-4a0a42fd-7438-4126-8d33-4f14fa84bbd6')\"\n",
              "              title=\"Convert this dataframe to an interactive table.\"\n",
              "              style=\"display:none;\">\n",
              "        \n",
              "  <svg xmlns=\"http://www.w3.org/2000/svg\" height=\"24px\"viewBox=\"0 0 24 24\"\n",
              "       width=\"24px\">\n",
              "    <path d=\"M0 0h24v24H0V0z\" fill=\"none\"/>\n",
              "    <path d=\"M18.56 5.44l.94 2.06.94-2.06 2.06-.94-2.06-.94-.94-2.06-.94 2.06-2.06.94zm-11 1L8.5 8.5l.94-2.06 2.06-.94-2.06-.94L8.5 2.5l-.94 2.06-2.06.94zm10 10l.94 2.06.94-2.06 2.06-.94-2.06-.94-.94-2.06-.94 2.06-2.06.94z\"/><path d=\"M17.41 7.96l-1.37-1.37c-.4-.4-.92-.59-1.43-.59-.52 0-1.04.2-1.43.59L10.3 9.45l-7.72 7.72c-.78.78-.78 2.05 0 2.83L4 21.41c.39.39.9.59 1.41.59.51 0 1.02-.2 1.41-.59l7.78-7.78 2.81-2.81c.8-.78.8-2.07 0-2.86zM5.41 20L4 18.59l7.72-7.72 1.47 1.35L5.41 20z\"/>\n",
              "  </svg>\n",
              "      </button>\n",
              "      \n",
              "  <style>\n",
              "    .colab-df-container {\n",
              "      display:flex;\n",
              "      flex-wrap:wrap;\n",
              "      gap: 12px;\n",
              "    }\n",
              "\n",
              "    .colab-df-convert {\n",
              "      background-color: #E8F0FE;\n",
              "      border: none;\n",
              "      border-radius: 50%;\n",
              "      cursor: pointer;\n",
              "      display: none;\n",
              "      fill: #1967D2;\n",
              "      height: 32px;\n",
              "      padding: 0 0 0 0;\n",
              "      width: 32px;\n",
              "    }\n",
              "\n",
              "    .colab-df-convert:hover {\n",
              "      background-color: #E2EBFA;\n",
              "      box-shadow: 0px 1px 2px rgba(60, 64, 67, 0.3), 0px 1px 3px 1px rgba(60, 64, 67, 0.15);\n",
              "      fill: #174EA6;\n",
              "    }\n",
              "\n",
              "    [theme=dark] .colab-df-convert {\n",
              "      background-color: #3B4455;\n",
              "      fill: #D2E3FC;\n",
              "    }\n",
              "\n",
              "    [theme=dark] .colab-df-convert:hover {\n",
              "      background-color: #434B5C;\n",
              "      box-shadow: 0px 1px 3px 1px rgba(0, 0, 0, 0.15);\n",
              "      filter: drop-shadow(0px 1px 2px rgba(0, 0, 0, 0.3));\n",
              "      fill: #FFFFFF;\n",
              "    }\n",
              "  </style>\n",
              "\n",
              "      <script>\n",
              "        const buttonEl =\n",
              "          document.querySelector('#df-4a0a42fd-7438-4126-8d33-4f14fa84bbd6 button.colab-df-convert');\n",
              "        buttonEl.style.display =\n",
              "          google.colab.kernel.accessAllowed ? 'block' : 'none';\n",
              "\n",
              "        async function convertToInteractive(key) {\n",
              "          const element = document.querySelector('#df-4a0a42fd-7438-4126-8d33-4f14fa84bbd6');\n",
              "          const dataTable =\n",
              "            await google.colab.kernel.invokeFunction('convertToInteractive',\n",
              "                                                     [key], {});\n",
              "          if (!dataTable) return;\n",
              "\n",
              "          const docLinkHtml = 'Like what you see? Visit the ' +\n",
              "            '<a target=\"_blank\" href=https://colab.research.google.com/notebooks/data_table.ipynb>data table notebook</a>'\n",
              "            + ' to learn more about interactive tables.';\n",
              "          element.innerHTML = '';\n",
              "          dataTable['output_type'] = 'display_data';\n",
              "          await google.colab.output.renderOutput(dataTable, element);\n",
              "          const docLink = document.createElement('div');\n",
              "          docLink.innerHTML = docLinkHtml;\n",
              "          element.appendChild(docLink);\n",
              "        }\n",
              "      </script>\n",
              "    </div>\n",
              "  </div>\n",
              "  "
            ]
          },
          "metadata": {},
          "execution_count": 46
        }
      ],
      "source": [
        "titanic[titanic['Sex'] == \"female\"].sample(10)"
      ]
    },
    {
      "cell_type": "markdown",
      "metadata": {
        "id": "eeXa3tfG83rW"
      },
      "source": [
        "### Consigna 6"
      ]
    },
    {
      "cell_type": "markdown",
      "metadata": {
        "id": "RmChPOfx83rW"
      },
      "source": [
        "¿Mujeres y niños primero? ¿Realmente esa fue la prioridad? \n",
        "**Generá tres gráficos** y sacá tus conclusiones. \n",
        "1. Supervivencia de hombres\n",
        "2. Supervivencia de mujeres\n",
        "3. Supervivencia de niños o niñas (menores a 15 años)"
      ]
    },
    {
      "cell_type": "code",
      "execution_count": 7,
      "metadata": {
        "id": "yRRDoDaK83rW",
        "colab": {
          "base_uri": "https://localhost:8080/"
        },
        "outputId": "a16efe63-d7a0-4c8d-e900-b12d31c46321"
      },
      "outputs": [
        {
          "output_type": "execute_result",
          "data": {
            "text/plain": [
              "[(0      False\n",
              "  1       True\n",
              "  2       True\n",
              "  3       True\n",
              "  4      False\n",
              "         ...  \n",
              "  886    False\n",
              "  887     True\n",
              "  888    False\n",
              "  889     True\n",
              "  890    False\n",
              "  Name: Survived, Length: 891, dtype: bool, 0      False\n",
              "  1       True\n",
              "  2       True\n",
              "  3       True\n",
              "  4      False\n",
              "         ...  \n",
              "  886    False\n",
              "  887     True\n",
              "  888     True\n",
              "  889    False\n",
              "  890    False\n",
              "  Name: Sex, Length: 891, dtype: bool)]"
            ]
          },
          "metadata": {},
          "execution_count": 7
        }
      ],
      "source": [
        "\n",
        "[(titanic['Survived'] == 1,titanic['Sex'] == \"female\")]\n",
        "\n"
      ]
    },
    {
      "cell_type": "markdown",
      "metadata": {
        "id": "WqGJawI283rX"
      },
      "source": [
        "### Consigna 7"
      ]
    },
    {
      "cell_type": "markdown",
      "metadata": {
        "id": "i5AwinPS83rX"
      },
      "source": [
        "Obtener un listado con la información completa de todas aquellas las personas del dataset que se llamen \"Frederic\""
      ]
    },
    {
      "cell_type": "code",
      "execution_count": 8,
      "metadata": {
        "id": "RnVKjIGl83rX",
        "colab": {
          "base_uri": "https://localhost:8080/"
        },
        "outputId": "0e508bce-a1ff-4d13-e2f9-2a320be3e6c6"
      },
      "outputs": [
        {
          "output_type": "stream",
          "name": "stdout",
          "text": [
            "     PassengerId  Survived  Pclass  \\\n",
            "59            60         0       3   \n",
            "201          202         0       3   \n",
            "224          225         1       1   \n",
            "238          239         0       2   \n",
            "319          320         1       1   \n",
            "343          344         0       2   \n",
            "447          448         1       1   \n",
            "457          458         1       1   \n",
            "486          487         1       1   \n",
            "497          498         0       3   \n",
            "506          507         1       2   \n",
            "625          626         0       1   \n",
            "676          677         0       3   \n",
            "678          679         0       3   \n",
            "861          862         0       2   \n",
            "862          863         1       1   \n",
            "883          884         0       2   \n",
            "\n",
            "                                                  Name     Sex   Age  SibSp  \\\n",
            "59                  Goodwin, Master. William Frederick    male  11.0      5   \n",
            "201                                Sage, Mr. Frederick    male   NaN      8   \n",
            "224                       Hoyt, Mr. Frederick Maxfield    male  38.0      1   \n",
            "238                    Pengelly, Mr. Frederick William    male  19.0      0   \n",
            "319  Spedden, Mrs. Frederic Oakley (Margaretta Corn...  female  40.0      1   \n",
            "343         Sedgwick, Mr. Charles Frederick Waddington    male  25.0      0   \n",
            "447                        Seward, Mr. Frederic Kimber    male  34.0      0   \n",
            "457                  Kenyon, Mrs. Frederick R (Marion)  female   NaN      1   \n",
            "486    Hoyt, Mrs. Frederick Maxfield (Jane Anne Forby)  female  35.0      1   \n",
            "497                    Shellard, Mr. Frederick William    male   NaN      0   \n",
            "506      Quick, Mrs. Frederick Charles (Jane Richards)  female  33.0      0   \n",
            "625                              Sutton, Mr. Frederick    male  61.0      0   \n",
            "676                      Sawyer, Mr. Frederick Charles    male  24.5      0   \n",
            "678            Goodwin, Mrs. Frederick (Augusta Tyler)  female  43.0      1   \n",
            "861                        Giles, Mr. Frederick Edward    male  21.0      1   \n",
            "862  Swift, Mrs. Frederick Joel (Margaret Welles Ba...  female  48.0      0   \n",
            "883                      Banfield, Mr. Frederick James    male  28.0      0   \n",
            "\n",
            "     Parch            Ticket      Fare Cabin Embarked  \n",
            "59       2           CA 2144   46.9000   NaN        S  \n",
            "201      2          CA. 2343   69.5500   NaN        S  \n",
            "224      0             19943   90.0000   C93        S  \n",
            "238      0             28665   10.5000   NaN        S  \n",
            "319      1             16966  134.5000   E34        C  \n",
            "343      0            244361   13.0000   NaN        S  \n",
            "447      0            113794   26.5500   NaN        S  \n",
            "457      0             17464   51.8625   D21        S  \n",
            "486      0             19943   90.0000   C93        S  \n",
            "497      0         C.A. 6212   15.1000   NaN        S  \n",
            "506      2             26360   26.0000   NaN        S  \n",
            "625      0             36963   32.3208   D50        S  \n",
            "676      0            342826    8.0500   NaN        S  \n",
            "678      6           CA 2144   46.9000   NaN        S  \n",
            "861      0             28134   11.5000   NaN        S  \n",
            "862      0             17466   25.9292   D17        S  \n",
            "883      0  C.A./SOTON 34068   10.5000   NaN        S  \n"
          ]
        }
      ],
      "source": [
        "print(titanic[titanic['Name'].str.contains(\"Frederic\")])"
      ]
    },
    {
      "cell_type": "markdown",
      "metadata": {
        "id": "_-f5rOIB83rX"
      },
      "source": [
        "### Consigna 8"
      ]
    },
    {
      "cell_type": "markdown",
      "metadata": {
        "id": "ywCQWcij83rX"
      },
      "source": [
        "Generar un gráfico (vos decidís cual, investigá el [sitio oficial de Matplotlib](https://matplotlib.org/3.1.1/gallery/index.html) para más información) el cual muestre la relación de cantidad de personas de cada clase de pasaje (PClass) respecto a la cantidad de gente que sobrevivió. Responder debajo de la imagen: ¿Fue distinta la suerte para la gente que viajó en clase más alta?"
      ]
    },
    {
      "cell_type": "code",
      "execution_count": 18,
      "metadata": {
        "id": "5qIR5tLF83rY",
        "colab": {
          "base_uri": "https://localhost:8080/",
          "height": 297
        },
        "outputId": "157c89ed-1136-468f-9f74-c3ab19cff61a"
      },
      "outputs": [
        {
          "output_type": "display_data",
          "data": {
            "text/plain": [
              "<Figure size 432x288 with 1 Axes>"
            ],
            "image/png": "[encoded data removed]"
          },
          "metadata": {
            "needs_background": "light"
          }
        }
      ],
      "source": [
        "import matplotlib\n",
        "import matplotlib.pyplot as plt\n",
        "import numpy as np\n",
        "\n",
        "\n",
        "labels = ['G1', 'G2', 'G3', 'G4', 'G5']\n",
        "men_means = [20, 34, 30, 35, 27]\n",
        "women_means = [25, 32, 34, 20, 25]\n",
        "\n",
        "x = np.arange(len(labels))  # the label locations\n",
        "width = 0.35  # the width of the bars\n",
        "\n",
        "fig, ax = plt.subplots()\n",
        "rects1 = ax.bar(x - width/2, men_means, width, label='Survived')\n",
        "rects2 = ax.bar(x + width/2, women_means, width, label='Pclass')\n",
        "\n",
        "# Add some text for labels, title and custom x-axis tick labels, etc.\n",
        "ax.set_ylabel('Cantidad de personas')\n",
        "ax.set_title('Cantidad de personas de cada clase de pasaje')\n",
        "ax.set_xticks(x)\n",
        "ax.set_xticklabels(labels)\n",
        "ax.legend()\n",
        "\n",
        "\n",
        "def autolabel(rects):\n",
        "    \"\"\"Attach a text label above each bar in *rects*, displaying its height.\"\"\"\n",
        "    for rect in rects:\n",
        "        height = rect.get_height()\n",
        "        ax.annotate('{}'.format(height),\n",
        "                    xy=(rect.get_x() + rect.get_width() / 2, height),\n",
        "                    xytext=(0, 3),  # 3 points vertical offset\n",
        "                    textcoords=\"offset points\",\n",
        "                    ha='center', va='bottom')\n",
        "\n",
        "\n",
        "autolabel(rects1)\n",
        "autolabel(rects2)\n",
        "\n",
        "fig.tight_layout()\n",
        "\n",
        "plt.show()"
      ]
    },
    {
      "cell_type": "markdown",
      "metadata": {
        "id": "1RF8jg6sGkTK"
      },
      "source": [
        "### Consigna 9"
      ]
    },
    {
      "cell_type": "markdown",
      "source": [
        "Obtener el **porcentaje de personas que embarcaron en cada uno de los puertos** respecto al total y representarlo mediante un gráfico de torta"
      ],
      "metadata": {
        "id": "y34zwpoFGnlK"
      }
    },
    {
      "cell_type": "code",
      "execution_count": 29,
      "metadata": {
        "id": "nrhoaHtlG7Qu",
        "colab": {
          "base_uri": "https://localhost:8080/",
          "height": 248
        },
        "outputId": "805b25f9-17a0-47cc-fa37-4cbb40208156"
      },
      "outputs": [
        {
          "output_type": "display_data",
          "data": {
            "text/plain": [
              "<Figure size 432x288 with 1 Axes>"
            ],
            "image/png": "[encoded data removed]"
          },
          "metadata": {}
        }
      ],
      "source": [
        "porcentaje1 = len(titanic[titanic[\"Embarked\"] == \"S\"]) * 100 / len(titanic)\n",
        "porcentaje2 = len(titanic[titanic[\"Embarked\"] == \"Q\"]) * 100 / len(titanic)\n",
        "porcentaje3 = len(titanic[titanic[\"Embarked\"] == \"C\"]) * 100 / len(titanic)\n",
        "\n",
        "\n",
        "labels = 'S', 'Q', \"C\"\n",
        "sizes = [porcentaje1, porcentaje2, porcentaje3]\n",
        "explode = (0.1, 0.1, 0.1) \n",
        "\n",
        "fig1, ax1 = plt.subplots()\n",
        "ax1.pie(sizes, explode=explode, labels=labels, autopct='%1.1f%%',\n",
        "        shadow=True, startangle=90)\n",
        "ax1.axis('equal')\n",
        "\n",
        "plt.show()"
      ]
    },
    {
      "cell_type": "markdown",
      "metadata": {
        "id": "0ZmvffdKHAfb"
      },
      "source": [
        "### Consigna 10"
      ]
    },
    {
      "cell_type": "markdown",
      "source": [
        "¿Cuál es la cantidad de personas que no tenían ningún hermano/a, padre/madre ni hijos a bordo del Titanic?"
      ],
      "metadata": {
        "id": "Gv3P4jj0HCax"
      }
    },
    {
      "cell_type": "code",
      "source": [
        "(titanic[\"PassengerId\"][(titanic[\"Parch\"] == 0) & (titanic[\"SibSp\"] == 0)].count())"
      ],
      "metadata": {
        "id": "i5CK_erIHOIJ",
        "colab": {
          "base_uri": "https://localhost:8080/"
        },
        "outputId": "a043c60d-9c3d-4483-fd2c-1ffdc683a969"
      },
      "execution_count": 35,
      "outputs": [
        {
          "output_type": "execute_result",
          "data": {
            "text/plain": [
              "537"
            ]
          },
          "metadata": {},
          "execution_count": 35
        }
      ]
    },
    {
      "cell_type": "markdown",
      "metadata": {
        "id": "FCnVWoznHTTO"
      },
      "source": [
        "### Consigna 11"
      ]
    },
    {
      "cell_type": "markdown",
      "source": [
        "Compará los valores promedio de tarifa abonada de quienes sobrevivieron al accidente y de quienes no pudieron lograrlo, y escribí debajo tu conclusión en base a los resultados obtenidos\n",
        "\n"
      ],
      "metadata": {
        "id": "Hbt3abXoHVbG"
      }
    },
    {
      "cell_type": "code",
      "source": [
        "print(\"El promedio de los que sobrevivieron el accidente abonaron: \", titanic[titanic[\"Survived\"] == 1].Fare.mean())\n",
        "print(\"El promedio de los que no sobrevivieron el accidente abonaron: \", titanic[titanic[\"Survived\"] == 0].Fare.mean())"
      ],
      "metadata": {
        "id": "BRLLaqItHxI-",
        "colab": {
          "base_uri": "https://localhost:8080/"
        },
        "outputId": "af013374-304e-49bf-b540-c2a961176f5f"
      },
      "execution_count": 59,
      "outputs": [
        {
          "output_type": "stream",
          "name": "stdout",
          "text": [
            "El promedio de los que sobrevivieron el accidente abonaron:  48.39540760233918\n",
            "El promedio de los que no sobrevivieron el accidente abonaron:  22.117886885245902\n"
          ]
        }
      ]
    },
    {
      "cell_type": "markdown",
      "metadata": {
        "id": "qFKJJsQJIdz3"
      },
      "source": [
        "### Consigna 12"
      ]
    },
    {
      "cell_type": "markdown",
      "source": [
        "A través de un gráfico representar la distribución de edades entre los pasajeros a bordo\n"
      ],
      "metadata": {
        "id": "aLRB19xlIf5a"
      }
    },
    {
      "cell_type": "code",
      "source": [
        "titanic[\"age_range\"] = pd.cut(titanic.Age, [0, 10, 20, 30, 40, 50, 60, 70, 80])\n",
        "titanic[\"age_range\"].value_counts().plot(kind=\"bar\")"
      ],
      "metadata": {
        "id": "xl-XqCIXIl71",
        "colab": {
          "base_uri": "https://localhost:8080/",
          "height": 312
        },
        "outputId": "8e4945bb-7a2d-4d3a-e432-c6ccf3ed1608"
      },
      "execution_count": 43,
      "outputs": [
        {
          "output_type": "execute_result",
          "data": {
            "text/plain": [
              "<matplotlib.axes._subplots.AxesSubplot at 0x7fd4c3d646d0>"
            ]
          },
          "metadata": {},
          "execution_count": 43
        },
        {
          "output_type": "display_data",
          "data": {
            "text/plain": [
              "<Figure size 432x288 with 1 Axes>"
            ],
            "image/png": "[encoded data removed]"
          },
          "metadata": {
            "needs_background": "light"
          }
        }
      ]
    }
  ],
  "metadata": {
    "kernelspec": {
      "display_name": "Python 3",
      "language": "python",
      "name": "python3"
    },
    "language_info": {
      "codemirror_mode": {
        "name": "ipython",
        "version": 3
      },
      "file_extension": ".py",
      "mimetype": "text/x-python",
      "name": "python",
      "nbconvert_exporter": "python",
      "pygments_lexer": "ipython3",
      "version": "3.7.3"
    },
    "colab": {
      "provenance": [],
      "collapsed_sections": []
    }
  },
  "nbformat": 4,
  "nbformat_minor": 0
}